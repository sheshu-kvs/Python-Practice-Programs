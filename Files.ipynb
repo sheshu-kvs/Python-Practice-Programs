{
 "cells": [
  {
   "cell_type": "code",
   "execution_count": 36,
   "id": "a21c6605-f8a4-4b9c-8fa8-9722109c6429",
   "metadata": {},
   "outputs": [
    {
     "name": "stdout",
     "output_type": "stream",
     "text": [
      "Sourav\n"
     ]
    }
   ],
   "source": [
    "# File Handling is an important part of any web application\n",
    "# Python has Several functions creating,reading,updating, and deleting files\n",
    "# r Read\n",
    "# a Append\n",
    "# w Write\n",
    "# x Create\n",
    "\n",
    "\n",
    "with open(\"Demofile.txt\",\"r\") as Value:\n",
    "# Value2 = open(\"C:\\Users\\GramaVikasa\\Documents\\jupyter\\file.txt\",\"r\")\n",
    "               # Value.write(\"\\nHlo MY Self\")\n",
    "               # Value.write(\"Sourav\")\n",
    "               print(Value.read())\n",
    "               # print(Value.readline())\n",
    "               # print(Value.readline())\n",
    "    # for x in Value:\n",
    "    #     print(x)\n",
    "    \n",
    "    \n",
    "\n",
    "\n"
   ]
  },
  {
   "cell_type": "code",
   "execution_count": 65,
   "id": "c3d9886e-2b9d-4a3b-8bc7-c63c10f52202",
   "metadata": {},
   "outputs": [
    {
     "name": "stdout",
     "output_type": "stream",
     "text": [
      "\n",
      "Sandesh\n",
      "Suresh\n",
      "Jeevam\n"
     ]
    }
   ],
   "source": [
    "# Reading a file \n",
    "with open(\"dem1.txt\",\"r\") as d:\n",
    "    print(d.read())\n",
    "    \n",
    "# Appending\n",
    "# with open(\"dem.txt\",\"a\") as d:\n",
    "#     d.write(\"Sunil\")\n",
    "\n",
    "\n",
    "# Writing\n",
    "# with open(\"dem.txt\",\"w\") as d:\n",
    "#     d.write(\"\\nSandesh\")\n",
    "#     d.write(\"\\nSuresh\")\n",
    "#     d.write(\"\\nJeevam\")\n",
    "    "
   ]
  },
  {
   "cell_type": "code",
   "execution_count": 61,
   "id": "89cfe25b-0abf-4c7f-a1c8-adb848aaf6af",
   "metadata": {},
   "outputs": [],
   "source": [
    "# Deleting a file\n",
    "\n",
    "import os\n",
    "# os.remove(\"dem.txt\")\n",
    "\n",
    "\n",
    "# Get file size\n",
    "# size = os.path.getsize('dem.txt')\n",
    "\n",
    "# Rename file\n",
    "os.rename('dem.txt', 'dem1.txt')"
   ]
  },
  {
   "cell_type": "code",
   "execution_count": null,
   "id": "150f85e1-398a-44b0-bfac-71db823b6849",
   "metadata": {},
   "outputs": [],
   "source": [
    "# Binary Files\n",
    "\n",
    "# Reading binary file\n",
    "with open('black.jpg', 'rb') as file:\n",
    "    data = file.read()\n",
    "    "
   ]
  },
  {
   "cell_type": "code",
   "execution_count": null,
   "id": "b0e9fd70-bbaa-4bd8-ba11-24be0296d730",
   "metadata": {},
   "outputs": [],
   "source": [
    "# Binary Files\n",
    "\n",
    "# Reading binary file\n",
    "with open('black.jpg', 'rb') as file:\n",
    "    data = file.read()\n",
    "    # print(data)"
   ]
  },
  {
   "cell_type": "code",
   "execution_count": 76,
   "id": "db95b64f-9276-4176-ac8e-4a151b9bee70",
   "metadata": {},
   "outputs": [],
   "source": [
    "# For Displaying the Image file\n",
    "\n",
    "\n",
    "from PIL import Image\n",
    "\n",
    "def display_image(file_path):\n",
    "    try:\n",
    "        img = Image.open(file_path)\n",
    "        img.show()  # Opens with default image viewer\n",
    "        # Alternatively display in Jupyter notebook:\n",
    "        # display(img)\n",
    "    except Exception as e:\n",
    "        print(f\"Error displaying image: {e}\")\n",
    "\n",
    "display_image('black.jpg')"
   ]
  },
  {
   "cell_type": "code",
   "execution_count": 70,
   "id": "90af5235-3a56-457a-98a2-3f0d2b607663",
   "metadata": {},
   "outputs": [
    {
     "name": "stdout",
     "output_type": "stream",
     "text": [
      "Requirement already satisfied: pillow in c:\\users\\gramavikasa\\appdata\\local\\programs\\python\\python313\\lib\\site-packages (11.2.1)\n"
     ]
    },
    {
     "name": "stderr",
     "output_type": "stream",
     "text": [
      "\n",
      "[notice] A new release of pip is available: 24.3.1 -> 25.1.1\n",
      "[notice] To update, run: python.exe -m pip install --upgrade pip\n"
     ]
    }
   ],
   "source": [
    "!pip install pillow"
   ]
  },
  {
   "cell_type": "code",
   "execution_count": null,
   "id": "7fdfe049-f7fd-4a7c-847f-3c11d905ed79",
   "metadata": {},
   "outputs": [],
   "source": []
  }
 ],
 "metadata": {
  "kernelspec": {
   "display_name": "Python 3 (ipykernel)",
   "language": "python",
   "name": "python3"
  },
  "language_info": {
   "codemirror_mode": {
    "name": "ipython",
    "version": 3
   },
   "file_extension": ".py",
   "mimetype": "text/x-python",
   "name": "python",
   "nbconvert_exporter": "python",
   "pygments_lexer": "ipython3",
   "version": "3.13.2"
  }
 },
 "nbformat": 4,
 "nbformat_minor": 5
}
