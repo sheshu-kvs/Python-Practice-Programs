{
 "cells": [
  {
   "cell_type": "code",
   "execution_count": 8,
   "id": "b8cb360c-1eba-442e-a494-1582380c01de",
   "metadata": {},
   "outputs": [
    {
     "name": "stdin",
     "output_type": "stream",
     "text": [
      "Enter the Prime Number.. 5\n"
     ]
    },
    {
     "name": "stdout",
     "output_type": "stream",
     "text": [
      "Prime\n"
     ]
    }
   ],
   "source": [
    "# Prime Numbers\n",
    "num=int(input(\"Enter the Prime Number..\"))\n",
    "is_prime=True\n",
    "if (num<=1):\n",
    "    is_prime=False\n",
    "else:\n",
    "    for i in range(2,num):\n",
    "        if num%i==0:\n",
    "            is_prime=False\n",
    "            break\n",
    "if is_prime:\n",
    "    print(\"Prime\")\n",
    "else:\n",
    "    print(\"Not Prime\")\n",
    "    "
   ]
  },
  {
   "cell_type": "code",
   "execution_count": 14,
   "id": "0340cdb0-cf03-4dbc-92bf-f7ad9b21e00f",
   "metadata": {},
   "outputs": [
    {
     "name": "stdin",
     "output_type": "stream",
     "text": [
      "Enter the Prime Number 2\n"
     ]
    },
    {
     "name": "stdout",
     "output_type": "stream",
     "text": [
      "The Prime Number of the 2 are\n",
      "2 "
     ]
    }
   ],
   "source": [
    "# Printing the Prime NUmbers...\n",
    "num=int(input(\"Enter the Prime Number\"))\n",
    "print(f\"The Prime Number of the {num} are\")\n",
    "for current_num in range(2,num+1):\n",
    "    is_prime=True\n",
    "    for i in range(2,current_num):\n",
    "        if current_num%i==0:\n",
    "            is_prime=False\n",
    "            break\n",
    "    if is_prime:\n",
    "        print(current_num ,end=\" \")"
   ]
  },
  {
   "cell_type": "code",
   "execution_count": null,
   "id": "5495ab5a-c161-4742-84eb-faaa96ff203f",
   "metadata": {},
   "outputs": [],
   "source": []
  }
 ],
 "metadata": {
  "kernelspec": {
   "display_name": "Python 3 (ipykernel)",
   "language": "python",
   "name": "python3"
  },
  "language_info": {
   "codemirror_mode": {
    "name": "ipython",
    "version": 3
   },
   "file_extension": ".py",
   "mimetype": "text/x-python",
   "name": "python",
   "nbconvert_exporter": "python",
   "pygments_lexer": "ipython3",
   "version": "3.13.2"
  }
 },
 "nbformat": 4,
 "nbformat_minor": 5
}
