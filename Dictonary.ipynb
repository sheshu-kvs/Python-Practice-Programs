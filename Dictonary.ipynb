{
 "cells": [
  {
   "cell_type": "code",
   "execution_count": 69,
   "id": "1a7d0941-d5f3-46d1-af94-73f193be849a",
   "metadata": {},
   "outputs": [
    {
     "name": "stdout",
     "output_type": "stream",
     "text": [
      "39000\n",
      "{'Sheshu': 90000, 'Giri': 39000, 'Sourav': 50000, 'Dinesh': 90000, 'Gatin': 239292}\n",
      "{'Giri': 39000, 'Sourav': 50000, 'Dinesh': 90000, 'Gatin': 239292}\n",
      "dict_keys(['Giri', 'Sourav', 'Dinesh', 'Gatin'])\n",
      "dict_values([39000, 50000, 90000, 239292])\n"
     ]
    }
   ],
   "source": [
    "# Dictonary\n",
    "dictionary={\n",
    "    'Sheshu':40000,\n",
    "    'Giri':39000,\n",
    "    'Sourav':50000,\n",
    "    'Dinesh':90000,\n",
    "    'Gatin':45000,\n",
    "    'Gatin':239292\n",
    "\n",
    "}\n",
    "\n",
    "\n",
    "# Accessing Values\n",
    "dictionary[\"Sheshu\"]\n",
    "dictionary[\"Giri\"]\n",
    "print(dictionary.get(\"Giri\"))\n",
    "\n",
    "# Updating Values\n",
    "dictionary[\"Sheshu\"]=90000\n",
    "print(dictionary)\n",
    "\n",
    "# removing Items \n",
    "del dictionary[\"Sheshu\"]\n",
    "print(dictionary)\n",
    "\n",
    "print(dictionary.keys())\n",
    "print(dictionary.values())\n"
   ]
  },
  {
   "cell_type": "code",
   "execution_count": 76,
   "id": "c49dd807-e2ee-40af-a8d4-b8caea89b2b9",
   "metadata": {},
   "outputs": [
    {
     "name": "stdout",
     "output_type": "stream",
     "text": [
      "{'y': 5}\n"
     ]
    }
   ],
   "source": [
    "# dictionary Probelm\n",
    "\n",
    "d={'publisher':'BPB','Price':99,'Title':'Computer Science'}\n",
    "len(d)\n",
    "\n",
    "d={'x':4,'y':5}\n",
    "d.pop('x')\n",
    "# del d['y']\n",
    "print(d)"
   ]
  },
  {
   "cell_type": "code",
   "execution_count": 80,
   "id": "aa28e761-63c7-4657-9238-9cf64a31d303",
   "metadata": {},
   "outputs": [
    {
     "name": "stdout",
     "output_type": "stream",
     "text": [
      "['about', 'home', 'sitemap']\n",
      "[25, 34, 124]\n"
     ]
    }
   ],
   "source": [
    "hits={\"home\":124,\"sitemap\":25,\"about\":34}\n",
    "print(sorted(hits.keys()))\n",
    "print(sorted(hits.values()))"
   ]
  },
  {
   "cell_type": "code",
   "execution_count": 82,
   "id": "f5482aaf-167a-4423-b9d4-deb5e3624907",
   "metadata": {},
   "outputs": [
    {
     "name": "stdout",
     "output_type": "stream",
     "text": [
      "dict_keys(['mon', 'Tue', 'Wed', 'Thr', 'Fri', 'Sat', 'sun'])\n"
     ]
    }
   ],
   "source": [
    "week={'mon':1,'Tue':2,'Wed':3,'Thr':4,'Fri':5,'Sat':6,'sun':7}\n",
    "print(week.keys())"
   ]
  },
  {
   "cell_type": "code",
   "execution_count": 92,
   "id": "ca113a46-53e6-4022-9811-0273614e6783",
   "metadata": {},
   "outputs": [
    {
     "name": "stdout",
     "output_type": "stream",
     "text": [
      "Sheshu : 40000\n",
      "Giri : 39000\n",
      "Sourav : 50000\n",
      "Dinesh : 90000\n",
      "Gatin : 45000\n"
     ]
    }
   ],
   "source": [
    "dictionary={\n",
    "    'Sheshu':40000,\n",
    "    'Giri':39000,\n",
    "    'Sourav':50000,\n",
    "    'Dinesh':90000,\n",
    "    'Gatin':45000\n",
    "\n",
    "}\n",
    "\n",
    "\n",
    "for i in dictionary:\n",
    "    \n",
    "    print(i,\":\",dictionary[i])\n",
    "    \n",
    "   "
   ]
  },
  {
   "cell_type": "code",
   "execution_count": null,
   "id": "d3dfc290-76fb-4033-b2c7-ec3f7e499c00",
   "metadata": {},
   "outputs": [],
   "source": []
  }
 ],
 "metadata": {
  "kernelspec": {
   "display_name": "Python 3 (ipykernel)",
   "language": "python",
   "name": "python3"
  },
  "language_info": {
   "codemirror_mode": {
    "name": "ipython",
    "version": 3
   },
   "file_extension": ".py",
   "mimetype": "text/x-python",
   "name": "python",
   "nbconvert_exporter": "python",
   "pygments_lexer": "ipython3",
   "version": "3.13.2"
  }
 },
 "nbformat": 4,
 "nbformat_minor": 5
}
