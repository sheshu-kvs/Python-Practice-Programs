{
 "cells": [
  {
   "cell_type": "code",
   "execution_count": 11,
   "id": "fe6d7330-de1e-4169-82b7-9fce820f4cf2",
   "metadata": {},
   "outputs": [
    {
     "name": "stdout",
     "output_type": "stream",
     "text": [
      "The Multiple of 2 Tables\n",
      " [1, 3, 5, 7, 9, 11, 13, 15, 17, 19] "
     ]
    }
   ],
   "source": [
    "# List\n",
    "list=[1,2,3,4,5,6,7,8,9,10,11,12,13,14,15,16,17,18,19,20]\n",
    "valus=[i for i in list if i%2!=0]\n",
    "print(\"The Multiple of 2 Tables\\n\",valus,end=\" \")"
   ]
  },
  {
   "cell_type": "code",
   "execution_count": 17,
   "id": "6fa4df89-72a6-48f4-82cc-a852a83b158e",
   "metadata": {},
   "outputs": [
    {
     "name": "stdout",
     "output_type": "stream",
     "text": [
      "[6, 10, 12, 21, 25, 34, 45, 99]\n"
     ]
    }
   ],
   "source": [
    "# Combine two Lists in the Single an its in Sorted Order\n",
    "def combine(list1,list2):\n",
    "    value=sorted(list1+list2)\n",
    "    return value\n",
    "\n",
    "list1=[99,34,25,6]\n",
    "list2=[21,45,12,10]\n",
    "print(combine(list1,list2))"
   ]
  },
  {
   "cell_type": "code",
   "execution_count": 22,
   "id": "c6269b77-30d8-45f9-a14c-267cd8a27447",
   "metadata": {},
   "outputs": [
    {
     "name": "stdout",
     "output_type": "stream",
     "text": [
      "[-11, 1, 1, 2, 3, 5, 7, 8, 8, 9, 13, 13, 14]\n"
     ]
    }
   ],
   "source": [
    "lis1=[-11,13,14]\n",
    "lis2=[1,1,2,3,5,8,13]\n",
    "lis3=[7,8,9]\n",
    "values=lis1+lis2+lis3\n",
    "print(sorted(values))"
   ]
  },
  {
   "cell_type": "code",
   "execution_count": 24,
   "id": "69e44cdd-3e79-434a-b018-42c1086ff589",
   "metadata": {},
   "outputs": [
    {
     "name": "stdout",
     "output_type": "stream",
     "text": [
      "19\n",
      "14\n"
     ]
    }
   ],
   "source": [
    "l=[19,18,17,16,15,14]\n",
    "print(l[0])\n",
    "print(l[-1])"
   ]
  },
  {
   "cell_type": "code",
   "execution_count": 25,
   "id": "cbd9bd8c-1e41-4cd3-aaf7-f87cdf19ab72",
   "metadata": {},
   "outputs": [
    {
     "name": "stdout",
     "output_type": "stream",
     "text": [
      "['e', 'i']\n"
     ]
    }
   ],
   "source": [
    "v=['a','e','i','o','u']\n",
    "print(v[1:3])"
   ]
  },
  {
   "cell_type": "code",
   "execution_count": 27,
   "id": "ae82278b-42a5-450b-9c65-e1e2b9dc542e",
   "metadata": {},
   "outputs": [
    {
     "name": "stdout",
     "output_type": "stream",
     "text": [
      "4\n"
     ]
    }
   ],
   "source": [
    "toy=['doll','car','bat','car','ball','car','car']\n",
    "print(toy.count('car'))"
   ]
  },
  {
   "cell_type": "code",
   "execution_count": 32,
   "id": "b30c7e78-25c0-43f3-b569-c7b6f9f94e4d",
   "metadata": {},
   "outputs": [
    {
     "name": "stdout",
     "output_type": "stream",
     "text": [
      "[400, 900, 210, 2000]\n"
     ]
    }
   ],
   "source": [
    "list=[400,500,210,2000]\n",
    "# list.reverse()\n",
    "list[1]=900\n",
    "# list.sort()\n",
    "print(list)"
   ]
  },
  {
   "cell_type": "code",
   "execution_count": 59,
   "id": "94c86310-ce8e-4bca-aa08-5c41560bbda4",
   "metadata": {},
   "outputs": [
    {
     "name": "stdout",
     "output_type": "stream",
     "text": [
      "None\n",
      "[10, 300, 'Apple']\n",
      "None\n",
      "[10, 'PINEAPPLE', 300, 'Apple']\n",
      "None\n",
      "[10, 'PINEAPPLE', 300, 'Apple', 'Guvva', 'Custard Melon']\n"
     ]
    }
   ],
   "source": [
    "\n",
    "print(list.append(\"Apple\"))\n",
    "print(list)\n",
    "print(list.insert(1,\"PINEAPPLE\"))\n",
    "print(list)\n",
    "print(list.extend([\"Guvva\",\"Custard Melon\"]))\n",
    "print(list)"
   ]
  },
  {
   "cell_type": "code",
   "execution_count": 61,
   "id": "d0138cf3-5c83-4fcf-9538-5cd6929a6268",
   "metadata": {},
   "outputs": [
    {
     "name": "stdout",
     "output_type": "stream",
     "text": [
      "[10, 300, 20, 40, 50]\n",
      "[10, 300]\n"
     ]
    }
   ],
   "source": [
    "list=[]\n",
    "list.append(10)\n",
    "list.append(300)\n",
    "list.append(20)\n",
    "list.append(40)\n",
    "list.append(50)\n",
    "print(list)\n",
    "del list[2:]\n",
    "print(list)\n",
    "\n"
   ]
  },
  {
   "cell_type": "code",
   "execution_count": null,
   "id": "f385cbf9-a5d7-4b82-a29c-15ce1659f7a1",
   "metadata": {},
   "outputs": [],
   "source": []
  },
  {
   "cell_type": "code",
   "execution_count": null,
   "id": "af398231-2f93-43fd-b8c7-67dfdbe9d8d1",
   "metadata": {},
   "outputs": [],
   "source": []
  }
 ],
 "metadata": {
  "kernelspec": {
   "display_name": "Python 3 (ipykernel)",
   "language": "python",
   "name": "python3"
  },
  "language_info": {
   "codemirror_mode": {
    "name": "ipython",
    "version": 3
   },
   "file_extension": ".py",
   "mimetype": "text/x-python",
   "name": "python",
   "nbconvert_exporter": "python",
   "pygments_lexer": "ipython3",
   "version": "3.13.2"
  }
 },
 "nbformat": 4,
 "nbformat_minor": 5
}
