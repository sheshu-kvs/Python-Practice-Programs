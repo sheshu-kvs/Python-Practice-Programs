{
 "cells": [
  {
   "cell_type": "code",
   "execution_count": 1,
   "id": "d345c29a-3372-4d4f-9044-0226bccc47fe",
   "metadata": {},
   "outputs": [
    {
     "name": "stdout",
     "output_type": "stream",
     "text": [
      "1\n",
      "12\n",
      "123\n",
      "1234\n",
      "12345\n"
     ]
    }
   ],
   "source": [
    "# Pattern\n",
    "i=1\n",
    "while (i<=5):\n",
    "    j=1\n",
    "    while (j<=i):\n",
    "        print(j,end=\"\")\n",
    "        j=j+1\n",
    "    print()\n",
    "    i=i+1\n"
   ]
  },
  {
   "cell_type": "code",
   "execution_count": 27,
   "id": "eb29e146-96a8-419f-83a4-2ea67b1a611a",
   "metadata": {},
   "outputs": [
    {
     "name": "stdout",
     "output_type": "stream",
     "text": [
      " * \n",
      " *  * \n",
      " *  *  * \n",
      " *  *  *  * \n",
      " *  *  *  *  * \n"
     ]
    }
   ],
   "source": [
    "# Pattern\n",
    "i=1\n",
    "while (i<=5):\n",
    "    j=1\n",
    "    while (j<=i):\n",
    "        print(\"*\",end=\" \")\n",
    "        j=j+1\n",
    "    print()\n",
    "    i=i+1\n"
   ]
  },
  {
   "cell_type": "code",
   "execution_count": 26,
   "id": "42b4fc8f-69e9-4ac6-9474-c28264524edb",
   "metadata": {},
   "outputs": [
    {
     "name": "stdin",
     "output_type": "stream",
     "text": [
      "Enter the String: sheshu\n"
     ]
    }
   ],
   "source": [
    "Name=input(\"Enter the String:\")\n"
   ]
  },
  {
   "cell_type": "code",
   "execution_count": null,
   "id": "78caf8bf-292f-497d-aa41-6d4a3275009b",
   "metadata": {},
   "outputs": [],
   "source": []
  }
 ],
 "metadata": {
  "kernelspec": {
   "display_name": "Python 3 (ipykernel)",
   "language": "python",
   "name": "python3"
  },
  "language_info": {
   "codemirror_mode": {
    "name": "ipython",
    "version": 3
   },
   "file_extension": ".py",
   "mimetype": "text/x-python",
   "name": "python",
   "nbconvert_exporter": "python",
   "pygments_lexer": "ipython3",
   "version": "3.13.2"
  }
 },
 "nbformat": 4,
 "nbformat_minor": 5
}
