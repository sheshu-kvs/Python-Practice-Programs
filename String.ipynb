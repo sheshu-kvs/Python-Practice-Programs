{
 "cells": [
  {
   "cell_type": "code",
   "execution_count": 9,
   "id": "55d85d73-aba6-4f01-8018-a2a2ad498e6e",
   "metadata": {},
   "outputs": [
    {
     "name": "stdin",
     "output_type": "stream",
     "text": [
      "Please Enter the Small Lettar sheshu\n"
     ]
    },
    {
     "name": "stdout",
     "output_type": "stream",
     "text": [
      "SHESHU\n"
     ]
    }
   ],
   "source": [
    "# Uppercse\n",
    "Name=(input(\"Please Enter the Small Lettar\"))\n",
    "print(Name.upper())"
   ]
  },
  {
   "cell_type": "code",
   "execution_count": 11,
   "id": "f54da792-7a62-40e8-a075-eae02d03036f",
   "metadata": {},
   "outputs": [
    {
     "name": "stdin",
     "output_type": "stream",
     "text": [
      "Please Enter the Small Lettar SHESHY\n"
     ]
    },
    {
     "name": "stdout",
     "output_type": "stream",
     "text": [
      "sheshy\n"
     ]
    }
   ],
   "source": [
    "# Lowercase\n",
    "Name=(input(\"Please Enter the Small Lettar\"))\n",
    "print(Name.lower())"
   ]
  },
  {
   "cell_type": "code",
   "execution_count": 14,
   "id": "6305fb6d-743b-4ebb-b4ef-73de19a967aa",
   "metadata": {},
   "outputs": [
    {
     "name": "stdin",
     "output_type": "stream",
     "text": [
      "Please Enter the Small Lettar sheshu kumar\n"
     ]
    },
    {
     "name": "stdout",
     "output_type": "stream",
     "text": [
      "Sheshu Kumar\n"
     ]
    }
   ],
   "source": [
    "# First Lettat To be Capital\n",
    "Name=(input(\"Please Enter the Small Lettar\"))\n",
    "print(Name.title())"
   ]
  },
  {
   "cell_type": "code",
   "execution_count": 28,
   "id": "92e3d8b1-2278-4fc4-8e67-d6cf40e35dc0",
   "metadata": {},
   "outputs": [
    {
     "name": "stdout",
     "output_type": "stream",
     "text": [
      "Sheshu kumar\n"
     ]
    }
   ],
   "source": [
    "# Remove WhiteSpace\n",
    "txt=\"    Sheshu kumar     \"\n",
    "print(txt.strip())"
   ]
  },
  {
   "cell_type": "code",
   "execution_count": 47,
   "id": "54e28ad1-6d21-4896-9fff-bf44ccb10374",
   "metadata": {},
   "outputs": [
    {
     "name": "stdout",
     "output_type": "stream",
     "text": [
      "['She', 'sh', 'u', 'kumar']\n"
     ]
    }
   ],
   "source": [
    "# Split\n",
    "\n",
    "txt=\"She sh u kumar\"\n",
    "print(txt.split())"
   ]
  },
  {
   "cell_type": "code",
   "execution_count": 45,
   "id": "0693ed0b-4dd4-4c30-b895-71fe64719a40",
   "metadata": {},
   "outputs": [
    {
     "name": "stdout",
     "output_type": "stream",
     "text": [
      "['Sh', 'e', ' s', 'h', 'u', 'k.umar']\n"
     ]
    }
   ],
   "source": [
    "# Split\n",
    "\n",
    "txt=\"Sh,e, s,h,u,k.umar\"\n",
    "print(txt.split(','))"
   ]
  },
  {
   "cell_type": "code",
   "execution_count": 51,
   "id": "e50f5c3b-7323-4c40-bd5d-0d472e5fc418",
   "metadata": {},
   "outputs": [
    {
     "name": "stdout",
     "output_type": "stream",
     "text": [
      "['lin1', 'line2', 'line3']\n"
     ]
    }
   ],
   "source": [
    "# SplitLines\n",
    "txt=\"lin1\\nline2\\nline3\"\n",
    "print(txt.splitlines())"
   ]
  },
  {
   "cell_type": "code",
   "execution_count": 57,
   "id": "86d4b921-2e48-4e34-8f65-c5035ce77b27",
   "metadata": {},
   "outputs": [
    {
     "name": "stdout",
     "output_type": "stream",
     "text": [
      "['a', 'b', ' c d e']\n"
     ]
    }
   ],
   "source": [
    "# Maxpslit\n",
    "txt=\"a b  c d e\"\n",
    "print(txt.split(' ',maxsplit=2))"
   ]
  },
  {
   "cell_type": "code",
   "execution_count": 59,
   "id": "b7137162-cfc7-46c7-9946-c5450a3de42c",
   "metadata": {},
   "outputs": [
    {
     "name": "stdout",
     "output_type": "stream",
     "text": [
      "4\n"
     ]
    }
   ],
   "source": [
    "# Length\n",
    "txt=\"Giri\"\n",
    "print(len(txt))"
   ]
  },
  {
   "cell_type": "code",
   "execution_count": 61,
   "id": "88ed0c29-f7c0-4a88-b4d1-50f1ca013918",
   "metadata": {},
   "outputs": [
    {
     "name": "stdout",
     "output_type": "stream",
     "text": [
      "3\n"
     ]
    }
   ],
   "source": [
    "# Counting the Words\n",
    "txt=\"sheshu kumar girri\"\n",
    "print(len(txt.split()))"
   ]
  },
  {
   "cell_type": "code",
   "execution_count": 13,
   "id": "adcdb77f-2a3c-4762-83b9-2d005d5740d6",
   "metadata": {},
   "outputs": [
    {
     "name": "stdout",
     "output_type": "stream",
     "text": [
      "y\n",
      "p\n",
      "t\n",
      "python\n",
      "p\n",
      "no\n",
      "python\n"
     ]
    }
   ],
   "source": [
    "# Subscrpitshh\n",
    "# Allows you to access the specific character in the String\n",
    "txt=\"python\"\n",
    "print(txt[1])\n",
    "print(txt[0])\n",
    "print(txt[2])\n",
    "print(txt[0:])\n",
    "print(txt[0:1])\n",
    "# [start:stop:step]\n",
    "print(txt[:-3:-1])\n",
    "print(txt[0:])\n"
   ]
  },
  {
   "cell_type": "code",
   "execution_count": 15,
   "id": "6db27d57-17e7-46ae-9b64-73b6fccff136",
   "metadata": {},
   "outputs": [
    {
     "name": "stdout",
     "output_type": "stream",
     "text": [
      "False\n"
     ]
    }
   ],
   "source": [
    "# Palindrome\n",
    "\n",
    "def is_palin(s):\n",
    "    return s==s[::-1]\n",
    "print(is_palin(\"sheshu\"))\n"
   ]
  },
  {
   "cell_type": "code",
   "execution_count": null,
   "id": "cb2c302b-9938-46df-a6e3-35cff9c8eab1",
   "metadata": {},
   "outputs": [],
   "source": []
  },
  {
   "cell_type": "code",
   "execution_count": null,
   "id": "f8e755da-b2b7-4508-8ebe-bca21da8ded6",
   "metadata": {},
   "outputs": [],
   "source": []
  }
 ],
 "metadata": {
  "kernelspec": {
   "display_name": "Python 3 (ipykernel)",
   "language": "python",
   "name": "python3"
  },
  "language_info": {
   "codemirror_mode": {
    "name": "ipython",
    "version": 3
   },
   "file_extension": ".py",
   "mimetype": "text/x-python",
   "name": "python",
   "nbconvert_exporter": "python",
   "pygments_lexer": "ipython3",
   "version": "3.13.2"
  }
 },
 "nbformat": 4,
 "nbformat_minor": 5
}
