{
 "cells": [
  {
   "cell_type": "code",
   "execution_count": 1,
   "id": "8ebc3c9c-26cd-4cee-8802-e4569c1fcb1b",
   "metadata": {},
   "outputs": [
    {
     "name": "stdout",
     "output_type": "stream",
     "text": [
      "81\n"
     ]
    }
   ],
   "source": [
    "# Coding\n",
    "\n",
    "i=11\n",
    "i>1\n",
    "if (i%2==0):\n",
    "    x=i%2\n",
    "    i=i-1\n",
    "else:\n",
    "    i=i-2\n",
    "    x=i\n",
    "    print(x**2)"
   ]
  },
  {
   "cell_type": "code",
   "execution_count": 2,
   "id": "5b4d1de5-fdf0-4b66-8fba-f01430a2e2ed",
   "metadata": {},
   "outputs": [
    {
     "name": "stdout",
     "output_type": "stream",
     "text": [
      "20\n",
      "25\n",
      "30\n",
      "35\n",
      "40\n",
      "45\n"
     ]
    }
   ],
   "source": [
    "# Coding2\n",
    "i=20\n",
    "while i<50:\n",
    "    print(i)\n",
    "    i+=5"
   ]
  },
  {
   "cell_type": "code",
   "execution_count": 2,
   "id": "10c71785-07d1-44c8-932a-e7a704211311",
   "metadata": {},
   "outputs": [
    {
     "name": "stdout",
     "output_type": "stream",
     "text": [
      "20\n",
      "25\n",
      "30\n",
      "35\n",
      "40\n",
      "45\n"
     ]
    }
   ],
   "source": [
    "# Coding2\n",
    "i=20\n",
    "while i<50:\n",
    "    print(i)\n",
    "    i+=5"
   ]
  },
  {
   "cell_type": "code",
   "execution_count": 11,
   "id": "24e8c4ce-3c00-44df-b95b-ff446a25072e",
   "metadata": {},
   "outputs": [
    {
     "name": "stdout",
     "output_type": "stream",
     "text": [
      "10\n",
      "50\n",
      "90\n",
      "130\n",
      "170\n"
     ]
    }
   ],
   "source": [
    "# Start From 10 Increased By 40\n",
    "i=10\n",
    "while (i<200):\n",
    "    print(i)\n",
    "    i+=40"
   ]
  },
  {
   "cell_type": "code",
   "execution_count": 3,
   "id": "aa37872e-ca5c-4aec-8eca-ee594f8b4ca2",
   "metadata": {},
   "outputs": [
    {
     "name": "stdout",
     "output_type": "stream",
     "text": [
      " \n",
      "   \n",
      "      \n",
      "          \n",
      "               \n"
     ]
    }
   ],
   "source": [
    "# Pattern\n",
    "\n",
    "for i in range(1,6):\n",
    "    for j in range(i):\n",
    "        print(\" \" * j,end=\" \")\n",
    "    print()"
   ]
  },
  {
   "cell_type": "code",
   "execution_count": 22,
   "id": "9b82d3e7-4c10-425e-9800-43075ebe9a59",
   "metadata": {},
   "outputs": [
    {
     "name": "stdout",
     "output_type": "stream",
     "text": [
      "112\n",
      "168\n"
     ]
    }
   ],
   "source": [
    "# Which are Multiple of 7 and 8 in the range of 200\n",
    "\n",
    "for x in range(100,200):\n",
    "    if (x%7==0) and (x%8==0):\n",
    "        print(x)"
   ]
  },
  {
   "cell_type": "code",
   "execution_count": null,
   "id": "702ff973-4476-4404-bfdc-e7f4106dee3d",
   "metadata": {},
   "outputs": [],
   "source": []
  }
 ],
 "metadata": {
  "kernelspec": {
   "display_name": "Python 3 (ipykernel)",
   "language": "python",
   "name": "python3"
  },
  "language_info": {
   "codemirror_mode": {
    "name": "ipython",
    "version": 3
   },
   "file_extension": ".py",
   "mimetype": "text/x-python",
   "name": "python",
   "nbconvert_exporter": "python",
   "pygments_lexer": "ipython3",
   "version": "3.13.2"
  }
 },
 "nbformat": 4,
 "nbformat_minor": 5
}
