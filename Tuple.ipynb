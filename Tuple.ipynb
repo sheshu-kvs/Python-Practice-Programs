{
 "cells": [
  {
   "cell_type": "code",
   "execution_count": null,
   "id": "24da72de-09b3-4372-a199-840217743255",
   "metadata": {},
   "outputs": [],
   "source": [
    "# Tuples are the immutable,Tuple are maintain the order,allows duplicates,\n",
    "# to define the tuple we use the ()\n"
   ]
  },
  {
   "cell_type": "code",
   "execution_count": 1,
   "id": "6510fdf9-356b-4b01-941e-14eaa8a9b2c1",
   "metadata": {},
   "outputs": [
    {
     "name": "stdout",
     "output_type": "stream",
     "text": [
      "()\n"
     ]
    }
   ],
   "source": [
    "# Tuple\n",
    "t=tuple()\n",
    "print(t)"
   ]
  },
  {
   "cell_type": "code",
   "execution_count": 6,
   "id": "bebbf3c6-2375-499f-8872-4187a550b5c6",
   "metadata": {},
   "outputs": [
    {
     "data": {
      "text/plain": [
       "10"
      ]
     },
     "execution_count": 6,
     "metadata": {},
     "output_type": "execute_result"
    }
   ],
   "source": [
    "t=(1,2,4,5,6,7,8,9,10)\n",
    "max(t)\n",
    "\n",
    "# min(t)\n",
    "\n"
   ]
  },
  {
   "cell_type": "code",
   "execution_count": 21,
   "id": "668139e8-7903-47e3-884d-1d1394ed61d2",
   "metadata": {},
   "outputs": [
    {
     "name": "stdout",
     "output_type": "stream",
     "text": [
      "(1, 2, 3, 4, 5, 10, 20, 40)\n"
     ]
    }
   ],
   "source": [
    "t1=(1,2,3,4,5)\n",
    "t2=(10,20,40)\n",
    "\n",
    "t3=t1+t2\n",
    "print(t3)"
   ]
  },
  {
   "cell_type": "code",
   "execution_count": 11,
   "id": "889ae470-00aa-44de-816e-26144bca8aba",
   "metadata": {},
   "outputs": [
    {
     "name": "stdout",
     "output_type": "stream",
     "text": [
      "Tuple: (1, 2, 3, 4, 5)\n",
      "<class 'tuple'>\n",
      "Tuple:  ('one', 'two', 'three', 'four')\n"
     ]
    }
   ],
   "source": [
    "t1=(1,2,3,4,5)\n",
    "print(\"Tuple:\",t1)\n",
    "print(type(t1))\n",
    "tu1=(\"one\",\"two\",\"three\",\"four\")\n",
    "print(\"Tuple: \",tu1)"
   ]
  },
  {
   "cell_type": "code",
   "execution_count": 12,
   "id": "fca2823a-779a-4a5e-910e-a3156864f355",
   "metadata": {},
   "outputs": [
    {
     "name": "stdout",
     "output_type": "stream",
     "text": [
      "(1, 11, 1)\n"
     ]
    }
   ],
   "source": [
    "# Tuple Allow the Duplication\n",
    "t1=(1,11,1)\n",
    "print(t1)"
   ]
  },
  {
   "cell_type": "code",
   "execution_count": 19,
   "id": "46b84f14-cefe-4e36-9c67-3d8ddead4818",
   "metadata": {},
   "outputs": [
    {
     "name": "stdout",
     "output_type": "stream",
     "text": [
      "('Giri', 'Govind', 'Gourav', 'Sandesh', 'Rupesh') "
     ]
    }
   ],
   "source": [
    "values=(\"Giri\",\"Govind\",\"Gourav\",\"Sandesh\",\"Rupesh\")\n",
    "print(values,end=\" \")"
   ]
  },
  {
   "cell_type": "code",
   "execution_count": null,
   "id": "74f0fc0a-abbb-4a4d-b78f-c3a38229a978",
   "metadata": {},
   "outputs": [],
   "source": []
  }
 ],
 "metadata": {
  "kernelspec": {
   "display_name": "Python 3 (ipykernel)",
   "language": "python",
   "name": "python3"
  },
  "language_info": {
   "codemirror_mode": {
    "name": "ipython",
    "version": 3
   },
   "file_extension": ".py",
   "mimetype": "text/x-python",
   "name": "python",
   "nbconvert_exporter": "python",
   "pygments_lexer": "ipython3",
   "version": "3.13.2"
  }
 },
 "nbformat": 4,
 "nbformat_minor": 5
}
