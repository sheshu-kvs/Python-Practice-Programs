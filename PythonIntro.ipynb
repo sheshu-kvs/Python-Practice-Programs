{
 "cells": [
  {
   "cell_type": "code",
   "execution_count": null,
   "id": "95e10487-19d7-4d6f-9bbb-770240f6882f",
   "metadata": {},
   "outputs": [],
   "source": [
    "Python"
   ]
  },
  {
   "cell_type": "code",
   "execution_count": 8,
   "id": "bf1e8b6f-5cda-4b3d-a331-ba721f0cbd92",
   "metadata": {},
   "outputs": [
    {
     "name": "stdout",
     "output_type": "stream",
     "text": [
      "13\n",
      "12\n",
      "Hello! World\n",
      "Sum of 2+5= 7\n",
      "35 32\n",
      "16\n"
     ]
    }
   ],
   "source": [
    "print(2+4+7)\n",
    "print(2*6)\n",
    "print(\"Hello! World\")\n",
    "print(\"Sum of 2+5=\",2+5)\n",
    "print(5*7,(10-2)*4)\n",
    "print(2**4)\n",
    "\n"
   ]
  },
  {
   "cell_type": "code",
   "execution_count": 12,
   "id": "10bda727-6f14-4470-80a5-fedaafa3a4c2",
   "metadata": {},
   "outputs": [
    {
     "name": "stdout",
     "output_type": "stream",
     "text": [
      "<class 'str'>\n",
      "<class 'int'>\n",
      "<class 'float'>\n"
     ]
    }
   ],
   "source": [
    "# Type of the DataType\n",
    "message=\"Hello you Have the Job!\"\n",
    "print(type(message))\n",
    "number=123456\n",
    "print(type(number))\n",
    "pi=3.14\n",
    "print(type(pi))"
   ]
  },
  {
   "cell_type": "code",
   "execution_count": 14,
   "id": "93116e9f-d283-436d-95e9-8b3743d261fc",
   "metadata": {},
   "outputs": [
    {
     "name": "stdout",
     "output_type": "stream",
     "text": [
      "12\n",
      "4\n",
      "32\n"
     ]
    }
   ],
   "source": [
    "# Addition,Substraction,Multiplication\n",
    "x=8\n",
    "y=4\n",
    "print(x+y)\n",
    "print(x-y)\n",
    "print(x*y)"
   ]
  },
  {
   "cell_type": "code",
   "execution_count": 15,
   "id": "b61607be-f39d-4f5f-b6f4-4e0c0d80cbc5",
   "metadata": {},
   "outputs": [
    {
     "name": "stdin",
     "output_type": "stream",
     "text": [
      "Please Enter Your Beautifull Name: Sheshadri Kumar\n"
     ]
    },
    {
     "name": "stdout",
     "output_type": "stream",
     "text": [
      "My Name Is: Sheshadri Kumar\n"
     ]
    }
   ],
   "source": [
    "# With User I/P\n",
    "name=input(\"Please Enter Your Beautifull Name:\")\n",
    "print(\"My Name Is: \"+name)"
   ]
  },
  {
   "cell_type": "code",
   "execution_count": 19,
   "id": "db97b32d-82c5-45b4-9cef-5637881bc6c2",
   "metadata": {},
   "outputs": [
    {
     "name": "stdout",
     "output_type": "stream",
     "text": [
      "You Total Marks is: 250\n",
      "You Average is: 83.33333333333333\n"
     ]
    }
   ],
   "source": [
    "# Marks with Total,Average..\n",
    "Maths=97\n",
    "english=78\n",
    "hindi=75\n",
    "total=Maths+english+hindi\n",
    "average=total/3\n",
    "print(\"You Total Marks is:\",total)\n",
    "print(\"You Average is:\",average)"
   ]
  },
  {
   "cell_type": "code",
   "execution_count": 29,
   "id": "1d0f541e-97b8-4464-8ad7-66af8b876938",
   "metadata": {},
   "outputs": [
    {
     "name": "stdout",
     "output_type": "stream",
     "text": [
      "x\n",
      "x\n",
      "2\n",
      "x+1\n",
      "3\n",
      "3 4 7\n",
      "2 45 12\n",
      "3 4\n"
     ]
    }
   ],
   "source": [
    "# Calculaton\n",
    "x=2\n",
    "print(\"x\")\n",
    "print('x')\n",
    "print(x)\n",
    "print(\"x+1\")\n",
    "print(x+1)\n",
    "print(3,4,3+4)\n",
    "print(2,45,10+2)\n",
    "print(3,4,)\n",
    " "
   ]
  },
  {
   "cell_type": "code",
   "execution_count": 30,
   "id": "cd5e6120-3b7d-47b2-a140-ce94bbbf87d1",
   "metadata": {},
   "outputs": [
    {
     "name": "stdout",
     "output_type": "stream",
     "text": [
      "Hello\n",
      "World\n",
      "\n",
      "GoodBye\n"
     ]
    }
   ],
   "source": [
    "# BackSlash \\n\n",
    "print(\"Hello\\nWorld\\n\\nGoodBye\")"
   ]
  },
  {
   "cell_type": "code",
   "execution_count": 34,
   "id": "d4024d84-9a3d-4e87-b1be-19582c625759",
   "metadata": {},
   "outputs": [
    {
     "name": "stdout",
     "output_type": "stream",
     "text": [
      "5\n"
     ]
    }
   ],
   "source": [
    "print(10//2)"
   ]
  },
  {
   "cell_type": "code",
   "execution_count": 35,
   "id": "a20e247b-58a2-4a88-9882-ebca6f7458b6",
   "metadata": {},
   "outputs": [
    {
     "name": "stdout",
     "output_type": "stream",
     "text": [
      "False\n",
      "False\n",
      "True\n",
      "False\n",
      "False\n",
      "True\n",
      "True\n"
     ]
    }
   ],
   "source": [
    "# Comparsions\n",
    "x,y,z=10,4,8\n",
    "print(x==8)\n",
    "print(x<y)\n",
    "print(x>y)\n",
    "print(x >= 0 and x < 4)\n",
    "print(x<10)\n",
    "print(y<z)\n",
    "print(x <= 10)"
   ]
  },
  {
   "cell_type": "code",
   "execution_count": null,
   "id": "79e528f4-e651-42d8-a4be-8a36fae86cd9",
   "metadata": {},
   "outputs": [],
   "source": []
  }
 ],
 "metadata": {
  "kernelspec": {
   "display_name": "Python 3 (ipykernel)",
   "language": "python",
   "name": "python3"
  },
  "language_info": {
   "codemirror_mode": {
    "name": "ipython",
    "version": 3
   },
   "file_extension": ".py",
   "mimetype": "text/x-python",
   "name": "python",
   "nbconvert_exporter": "python",
   "pygments_lexer": "ipython3",
   "version": "3.13.2"
  }
 },
 "nbformat": 4,
 "nbformat_minor": 5
}
