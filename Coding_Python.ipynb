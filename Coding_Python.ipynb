{
 "cells": [
  {
   "cell_type": "code",
   "execution_count": 10,
   "id": "bfe49601-beb0-41fe-ba8d-337a4e7dd823",
   "metadata": {},
   "outputs": [
    {
     "name": "stdout",
     "output_type": "stream",
     "text": [
      "1\n"
     ]
    },
    {
     "data": {
      "text/plain": [
       "0"
      ]
     },
     "execution_count": 10,
     "metadata": {},
     "output_type": "execute_result"
    }
   ],
   "source": [
    "word=\"banana\"\n",
    "print(word.find('a'))\n",
    "word.find('banan')"
   ]
  },
  {
   "cell_type": "code",
   "execution_count": 17,
   "id": "ae542b6b-1ae1-48ef-930e-4741432d010d",
   "metadata": {},
   "outputs": [
    {
     "name": "stdout",
     "output_type": "stream",
     "text": [
      "H\n",
      "llo\n",
      "Hello WorldHello World\n"
     ]
    }
   ],
   "source": [
    "str=\"Hello World\"\n",
    "print(str[0])\n",
    "print(str[2:5])\n",
    "print(str*2)"
   ]
  },
  {
   "cell_type": "code",
   "execution_count": 22,
   "id": "f30281ab-123e-4265-a88b-0c61f8a4e318",
   "metadata": {},
   "outputs": [
    {
     "name": "stdout",
     "output_type": "stream",
     "text": [
      "var1[0]: h\n",
      "var1[0:6): Python\n"
     ]
    }
   ],
   "source": [
    "var1='hello World!'\n",
    "var2=\"Python Programming\"\n",
    "print(\"var1[0]:\",var1[0])\n",
    "print(\"var1[0:6):\",var2[0:6])\n"
   ]
  },
  {
   "cell_type": "code",
   "execution_count": 35,
   "id": "7fa7efab-ebb7-475f-abff-1af97d736f30",
   "metadata": {},
   "outputs": [
    {
     "name": "stdout",
     "output_type": "stream",
     "text": [
      "18\n",
      "save plants \n",
      "Work!\n",
      "Work!\n",
      "Work!\n",
      " sHESHADRI\n"
     ]
    }
   ],
   "source": [
    "str1=\"World of Computers\"\n",
    "print(len(str1))\n",
    "print('SAVE PLANTS '.lower())\n",
    "print(\"Work!\\n\"*3,end=\" \")\n",
    "str=\"Sheshadri\"\n",
    "print(str.swapcase())"
   ]
  },
  {
   "cell_type": "code",
   "execution_count": 41,
   "id": "326a1dd4-7729-42ac-bf25-501ca3d4985a",
   "metadata": {},
   "outputs": [
    {
     "name": "stdout",
     "output_type": "stream",
     "text": [
      "P\n",
      "g\n",
      "n\n",
      "Python String\n",
      "Python\n"
     ]
    }
   ],
   "source": [
    "sample_str='Python String'\n",
    "print(sample_str[0])\n",
    "print(sample_str[-1])\n",
    "print(sample_str[-2])\n",
    "print(sample_str[0:])\n",
    "print(sample_str[:6])\n",
    "\n"
   ]
  },
  {
   "cell_type": "code",
   "execution_count": 50,
   "id": "97b8c1e1-6992-4559-bf90-0ebf535c30fe",
   "metadata": {},
   "outputs": [
    {
     "name": "stdout",
     "output_type": "stream",
     "text": [
      "9\n"
     ]
    },
    {
     "data": {
      "text/plain": [
       "'iiiiiiiiirdahsehS'"
      ]
     },
     "execution_count": 50,
     "metadata": {},
     "output_type": "execute_result"
    }
   ],
   "source": [
    "# Reverse String\n",
    "str=\"Sheshadriiiiiiiii\"\n",
    "str[::-1]"
   ]
  },
  {
   "cell_type": "code",
   "execution_count": 52,
   "id": "326ee86c-a8f4-484d-9a6a-8e26a030106a",
   "metadata": {},
   "outputs": [
    {
     "name": "stdout",
     "output_type": "stream",
     "text": [
      "3\n"
     ]
    }
   ],
   "source": [
    "str=\"banana\"\n",
    "print(str.count('a')+str.count('e')+str.count('i')+str.count('o')+str.count('u'))"
   ]
  },
  {
   "cell_type": "code",
   "execution_count": 55,
   "id": "df1c3dc0-eb60-4bec-b59d-c44c97d9fabe",
   "metadata": {},
   "outputs": [
    {
     "name": "stdout",
     "output_type": "stream",
     "text": [
      "5\n"
     ]
    }
   ],
   "source": [
    "# Count the vowels\n",
    "\n",
    "txt=\"Sheshadri Kumar\"\n",
    "vowels=\"aeiouAEIOU\"\n",
    "count=0\n",
    "for i in txt:\n",
    "    if i in vowels:\n",
    "        count+=1\n",
    "print(count)"
   ]
  },
  {
   "cell_type": "code",
   "execution_count": 70,
   "id": "17c66b47-b365-4990-8319-a49123b4a2f7",
   "metadata": {},
   "outputs": [
    {
     "name": "stdin",
     "output_type": "stream",
     "text": [
      "Enter the String... Devraj\n"
     ]
    },
    {
     "name": "stdout",
     "output_type": "stream",
     "text": [
      "The Number Of the Words:  1\n",
      "Number of the Lettars in the String 6\n",
      "jarveD\n"
     ]
    }
   ],
   "source": [
    "# Count the Number oF the Words and Lettars\n",
    "name=input(\"Enter the String...\")\n",
    "print(\"The Number Of the Words: \",len(name.split()))\n",
    "lettars=sum( 1 for i in name if i.isalpha())\n",
    "\n",
    "print(\"Number of the Lettars in the String\",lettars)\n",
    "print(name[::-1])\n"
   ]
  },
  {
   "cell_type": "code",
   "execution_count": 72,
   "id": "10db377e-40e5-4c2c-8708-ee548997ed5e",
   "metadata": {},
   "outputs": [
    {
     "name": "stdin",
     "output_type": "stream",
     "text": [
      "Enter the String... SheShaDri123\n"
     ]
    },
    {
     "name": "stdout",
     "output_type": "stream",
     "text": [
      "Number of lower values 6\n",
      "Number of lower values 3\n",
      "Number of lower values 3\n"
     ]
    }
   ],
   "source": [
    "name=input(\"Enter the String...\")\n",
    "lower=upper=digit=0\n",
    "for i in name:\n",
    "    if i.islower():\n",
    "        lower+=1\n",
    "    elif i.isupper():\n",
    "        upper+=1\n",
    "    elif i.isdigit():\n",
    "        digit+=1\n",
    "print(\"Number of lower values\",lower)\n",
    "print(\"Number of lower values\",upper)\n",
    "print(\"Number of lower values\",digit)\n",
    "\n",
    "    "
   ]
  },
  {
   "cell_type": "code",
   "execution_count": null,
   "id": "51fcf60c-bb47-4684-afd3-ee608f25af23",
   "metadata": {},
   "outputs": [],
   "source": []
  }
 ],
 "metadata": {
  "kernelspec": {
   "display_name": "Python 3 (ipykernel)",
   "language": "python",
   "name": "python3"
  },
  "language_info": {
   "codemirror_mode": {
    "name": "ipython",
    "version": 3
   },
   "file_extension": ".py",
   "mimetype": "text/x-python",
   "name": "python",
   "nbconvert_exporter": "python",
   "pygments_lexer": "ipython3",
   "version": "3.13.2"
  }
 },
 "nbformat": 4,
 "nbformat_minor": 5
}
