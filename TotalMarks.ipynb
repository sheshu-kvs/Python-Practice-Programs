{
 "cells": [
  {
   "cell_type": "code",
   "execution_count": 1,
   "id": "2b63002c-5199-4f45-a2b8-c1dc5f2631e1",
   "metadata": {},
   "outputs": [
    {
     "name": "stdin",
     "output_type": "stream",
     "text": [
      "Enter the number Subjecs Marks: 5\n",
      "Subject 1  100\n",
      "Subject 2  100\n",
      "Subject 3  100\n",
      "Subject 4  100\n",
      "Subject 5  100\n"
     ]
    },
    {
     "name": "stdout",
     "output_type": "stream",
     "text": [
      "The Toal Marks 500.0\n",
      "The Percentage 100.0\n"
     ]
    }
   ],
   "source": [
    "# Calculate Total Marks and the Percentage\n",
    "\n",
    "\n",
    "total=0\n",
    "n=int(input(\"Enter the number Subjecs Marks:\"))\n",
    "for i in range(n):\n",
    "     marks=float(input(f\"Subject {i+1} \"))\n",
    "     \n",
    "     total+=marks\n",
    "\n",
    "\n",
    "percentage=total/n\n",
    "\n",
    "\n",
    "print(\"The Toal Marks\",total)\n",
    "print(\"The Percentage\",percentage)\n",
    "\n",
    "    "
   ]
  },
  {
   "cell_type": "code",
   "execution_count": 16,
   "id": "9acdfbab-2cd4-4fdb-acdf-d696c01b4f5e",
   "metadata": {},
   "outputs": [
    {
     "name": "stdout",
     "output_type": "stream",
     "text": [
      "Enter the Sub1 100\n",
      "Enter the Sub2 100\n",
      "Enter the Sub2 100\n"
     ]
    },
    {
     "name": "stdout",
     "output_type": "stream",
     "text": [
      "300\n",
      "100\n"
     ]
    }
   ],
   "source": [
    "sub1=int(input(\"Enter the Sub1\"))\n",
    "sub2=int(input(\"Enter the Sub2\"))\n",
    "sub3=int(input(\"Enter the Sub2\"))\n",
    "\n",
    "total=sub1+sub2+sub3\n",
    "percentage=total//3\n",
    "print(total)\n",
    "print(percentage)"
   ]
  }
 ],
 "metadata": {
  "kernelspec": {
   "display_name": "Python 3 (ipykernel)",
   "language": "python",
   "name": "python3"
  },
  "language_info": {
   "codemirror_mode": {
    "name": "ipython",
    "version": 3
   },
   "file_extension": ".py",
   "mimetype": "text/x-python",
   "name": "python",
   "nbconvert_exporter": "python",
   "pygments_lexer": "ipython3",
   "version": "3.13.2"
  }
 },
 "nbformat": 4,
 "nbformat_minor": 5
}
